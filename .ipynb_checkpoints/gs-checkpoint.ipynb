{
 "cells": [
  {
   "cell_type": "code",
   "execution_count": null,
   "id": "2d3a9545",
   "metadata": {},
   "outputs": [],
   "source": [
    "# image = np.reshape(images[1], (28, 28))\n",
    "# plt.imshow(image, cmap='gray', vmin=0, vmax=255)\n",
    "# plt.show()"
   ]
  },
  {
   "cell_type": "code",
   "execution_count": 27,
   "id": "5d5a945e",
   "metadata": {},
   "outputs": [],
   "source": [
    "import pandas as pd\n",
    "import numpy as np\n",
    "from matplotlib import pyplot as plt"
   ]
  },
  {
   "cell_type": "code",
   "execution_count": 28,
   "id": "ec661c02",
   "metadata": {},
   "outputs": [],
   "source": [
    "data = pd.read_csv(\"./data/mnist_train.csv\")\n",
    "data = np.array(data)\n",
    "\n",
    "labels = data[:, 0].T\n",
    "images = data[:, 1:]"
   ]
  },
  {
   "cell_type": "code",
   "execution_count": 29,
   "id": "27773be4",
   "metadata": {},
   "outputs": [],
   "source": [
    "def init_params(input_size=784, hidden_size=128, output_size=10):\n",
    "    b1 = np.random.rand(hidden_size)\n",
    "    w1 = np.random.rand(input_size, hidden_size)\n",
    "    b2 = np.random.rand(output_size)\n",
    "    w2 = np.random.rand(hidden_size, output_size)\n",
    "\n",
    "init_params()"
   ]
  },
  {
   "cell_type": "code",
   "execution_count": null,
   "id": "793055e8",
   "metadata": {},
   "outputs": [],
   "source": [
    "def sigmoid(x):\n",
    "    return (1 / (1 + np.exp(-x)))\n",
    "def sigmoid_derivative(x):\n",
    "    return x * (1 - x)"
   ]
  },
  {
   "cell_type": "code",
   "execution_count": null,
   "id": "f9a59d18",
   "metadata": {},
   "outputs": [],
   "source": [
    "for image in images:\n",
    "    print(image)"
   ]
  }
 ],
 "metadata": {
  "kernelspec": {
   "display_name": "Python 3 (ipykernel)",
   "language": "python",
   "name": "python3"
  },
  "language_info": {
   "codemirror_mode": {
    "name": "ipython",
    "version": 3
   },
   "file_extension": ".py",
   "mimetype": "text/x-python",
   "name": "python",
   "nbconvert_exporter": "python",
   "pygments_lexer": "ipython3",
   "version": "3.11.5"
  }
 },
 "nbformat": 4,
 "nbformat_minor": 5
}
