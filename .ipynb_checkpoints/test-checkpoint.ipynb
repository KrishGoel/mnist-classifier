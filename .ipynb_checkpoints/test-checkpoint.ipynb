{
 "cells": [
  {
   "cell_type": "code",
   "execution_count": 1,
   "id": "eedefd32",
   "metadata": {},
   "outputs": [],
   "source": [
    "import numpy as np\n",
    "import pandas as pd\n",
    "import matplotlib.pyplot as plt"
   ]
  },
  {
   "cell_type": "code",
   "execution_count": 2,
   "id": "219d0328",
   "metadata": {},
   "outputs": [],
   "source": [
    "weights_and_biases = np.load(\"./model/weights.npz\")\n",
    "\n",
    "b1 = weights_and_biases['b1']\n",
    "w1 = weights_and_biases['w1']\n",
    "b2 = weights_and_biases['b2']\n",
    "w2 = weights_and_biases['w2']\n",
    "b3 = weights_and_biases['b3']\n",
    "w3 = weights_and_biases['w3']"
   ]
  },
  {
   "cell_type": "code",
   "execution_count": 3,
   "id": "c37aaf22",
   "metadata": {},
   "outputs": [],
   "source": [
    "def sigmoid(x):\n",
    "    return 1 / (1 + np.exp(-x))\n",
    "\n",
    "def relu(x):\n",
    "    return np.maximum(0, x)\n",
    "\n",
    "def softmax(x):\n",
    "    exp_x = np.exp(x - np.max(x, axis=-1, keepdims=True))\n",
    "    return exp_x / np.sum(exp_x, axis=-1, keepdims=True)"
   ]
  },
  {
   "cell_type": "code",
   "execution_count": 4,
   "id": "edc666ca",
   "metadata": {},
   "outputs": [],
   "source": [
    "def forward_propagation(image_batch, w1, b1, w2, b2, w3, b3):\n",
    "    z1 = np.dot(image_batch, w1) + b1\n",
    "    a1 = relu(z1)\n",
    "    \n",
    "    z2 = np.dot(a1, w2) + b2\n",
    "    a2 = relu(z2)\n",
    "    \n",
    "    z3 = np.dot(a2, w3) + b3\n",
    "    y_pred = softmax(z3)\n",
    "    \n",
    "    return y_pred"
   ]
  },
  {
   "cell_type": "code",
   "execution_count": 5,
   "id": "05a730c8",
   "metadata": {},
   "outputs": [],
   "source": [
    "data = pd.read_csv(\"./data/mnist_test.csv\")\n",
    "data = np.array(data)\n",
    "\n",
    "images = data[:, 1:] / 255.0"
   ]
  },
  {
   "cell_type": "code",
   "execution_count": 6,
   "id": "3732d18a",
   "metadata": {},
   "outputs": [],
   "source": [
    "def display_image(image, prediction):\n",
    "    plt.imshow(image.reshape(28, 28), cmap='gray')\n",
    "    plt.title(f'Predicted Class: {prediction}')\n",
    "    plt.axis('off')\n",
    "    plt.show()"
   ]
  },
  {
   "cell_type": "code",
   "execution_count": 8,
   "id": "0da93a9a",
   "metadata": {},
   "outputs": [
    {
     "name": "stdout",
     "output_type": "stream",
     "text": [
      "Enter a number between 0 to 9999: 1387\n"
     ]
    },
    {
     "data": {
      "image/png": "[encoded data removed]",
      "text/plain": [
       "<Figure size 640x480 with 1 Axes>"
      ]
     },
     "metadata": {},
     "output_type": "display_data"
    }
   ],
   "source": [
    "image_index = int(input(f\"Enter a number between 0 to {len(images) - 1}: \"))\n",
    "image_to_predict = images[image_index]\n",
    "\n",
    "predictions = forward_propagation(image_to_predict, w1, b1, w2, b2, w3, b3)\n",
    "prediction = np.argmax(predictions)\n",
    "display_image(image_to_predict, prediction)"
   ]
  }
 ],
 "metadata": {
  "kernelspec": {
   "display_name": "Python 3 (ipykernel)",
   "language": "python",
   "name": "python3"
  },
  "language_info": {
   "codemirror_mode": {
    "name": "ipython",
    "version": 3
   },
   "file_extension": ".py",
   "mimetype": "text/x-python",
   "name": "python",
   "nbconvert_exporter": "python",
   "pygments_lexer": "ipython3",
   "version": "3.11.5"
  }
 },
 "nbformat": 4,
 "nbformat_minor": 5
}
